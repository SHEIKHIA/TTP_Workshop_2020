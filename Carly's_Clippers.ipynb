{
  "nbformat": 4,
  "nbformat_minor": 0,
  "metadata": {
    "colab": {
      "name": "Carly's Clippers.ipynb",
      "provenance": [],
      "authorship_tag": "ABX9TyOFkiJEq+AN/0d9xB9Xy9Ju",
      "include_colab_link": true
    },
    "kernelspec": {
      "name": "python3",
      "display_name": "Python 3"
    },
    "language_info": {
      "name": "python"
    }
  },
  "cells": [
    {
      "cell_type": "markdown",
      "metadata": {
        "id": "view-in-github",
        "colab_type": "text"
      },
      "source": [
        "<a href=\"https://colab.research.google.com/github/SHEIKHIA/TTP_Workshop_2020/blob/main/Carly's_Clippers.ipynb\" target=\"_parent\"><img src=\"https://colab.research.google.com/assets/colab-badge.svg\" alt=\"Open In Colab\"/></a>"
      ]
    },
    {
      "cell_type": "code",
      "execution_count": 4,
      "metadata": {
        "colab": {
          "base_uri": "https://localhost:8080/"
        },
        "id": "31dVra1bY-k5",
        "outputId": "337481f8-3780-4178-fc81-04e68227172b"
      },
      "outputs": [
        {
          "output_type": "stream",
          "name": "stdout",
          "text": [
            "Average Haircut Price:  31.875\n",
            "new price: [25, 20, 35, 15, 15, 30, 45, 30]\n",
            "Total Revenue: 1085\n",
            "average daily revenue: 155.0\n",
            "cuts are under 30$:  ['bouffant', 'pixie', 'crew', 'bowl']\n"
          ]
        }
      ],
      "source": [
        "hairstyles = [\"bouffant\", \"pixie\", \"dreadlocks\", \"crew\", \"bowl\", \"bob\", \"mohawk\", \"flattop\"]\n",
        "\n",
        "prices = [30, 25, 40, 20, 20, 35, 50, 35]\n",
        "\n",
        "last_week = [2, 3, 5, 8, 4, 4, 6, 2]\n",
        "total_price = 0\n",
        "for i in prices:\n",
        "  total_price +=i\n",
        "average_price =  total_price/len(prices)\n",
        "print('Average Haircut Price: ',average_price)\n",
        "new_prices = [price-5 for price in prices]\n",
        "print('new price:',new_prices )\n",
        "total_revenue = 0\n",
        "for i in range(len(hairstyles)):\n",
        "  total_revenue+=prices[i]*last_week[i]\n",
        "print('Total Revenue:',total_revenue )\n",
        "average_daily_revenue = total_revenue/7\n",
        "print('average daily revenue:',average_daily_revenue)\n",
        "cuts_under_30 =[hairstyles[i] for i in range(len(new_prices)) if new_prices[i] < 30 ]\n",
        "print('cuts are under 30$: ',cuts_under_30)\n",
        "  "
      ]
    }
  ]
}