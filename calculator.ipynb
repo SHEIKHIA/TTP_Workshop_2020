{
  "nbformat": 4,
  "nbformat_minor": 0,
  "metadata": {
    "colab": {
      "name": "Untitled0.ipynb",
      "provenance": [],
      "authorship_tag": "ABX9TyNf+tiT4Kf+1wTw3X5RsH5k",
      "include_colab_link": true
    },
    "kernelspec": {
      "name": "python3",
      "display_name": "Python 3"
    },
    "language_info": {
      "name": "python"
    }
  },
  "cells": [
    {
      "cell_type": "markdown",
      "metadata": {
        "id": "view-in-github",
        "colab_type": "text"
      },
      "source": [
        "<a href=\"https://colab.research.google.com/github/SHEIKHIA/TTP_Workshop_2020/blob/main/calculator.ipynb\" target=\"_parent\"><img src=\"https://colab.research.google.com/assets/colab-badge.svg\" alt=\"Open In Colab\"/></a>"
      ]
    },
    {
      "cell_type": "code",
      "execution_count": null,
      "metadata": {
        "id": "PBcr5eWrrNGf",
        "colab": {
          "base_uri": "https://localhost:8080/"
        },
        "outputId": "e9d0e552-6628-4b35-e9cb-03b853d2fb09"
      },
      "outputs": [
        {
          "output_type": "stream",
          "name": "stdout",
          "text": [
            "Please select operation -\n",
            "1. Add\n",
            "2. Subtract\n",
            "3. Multiply\n",
            "4. Divide\n",
            "\n",
            "Select operations form 1, 2, 3, 4 :1\n",
            "Enter first number: 4\n",
            "Enter second number: 6\n",
            "4 + 6 = 10\n"
          ]
        }
      ],
      "source": [
        "# Function to add two numbers \n",
        "def add(num1, num2): #taking two argument from user\n",
        "    return num1 + num2 # returning the value by adding\n",
        "  \n",
        "# Function to subtract two numbers \n",
        "def subtract(num1, num2): #taking two argument from user\n",
        "    return num1 - num2 # returning the value by subtracting\n",
        "  \n",
        "  \n",
        "# Function to multiply two numbers\n",
        "def multiply(num1, num2): #taking two argument from user\n",
        "    return num1 * num2 # returning the value by multiplying\n",
        "  \n",
        "# Function to divide two numbers\n",
        "def divide(num1, num2): #taking two argument from user\n",
        "    return num1 / num2 # returning the value by dividing\n",
        "\n",
        "  # sending message to user to choose their option \n",
        "print(\"Please select operation -\\n\" \n",
        "        \"1. Add\\n\" \\\n",
        "        \"2. Subtract\\n\" \\\n",
        "        \"3. Multiply\\n\" \\\n",
        "        \"4. Divide\\n\")\n",
        "  \n",
        "  \n",
        "# Take input from the user \n",
        "select = int(input(\"Select operations form 1, 2, 3, 4 :\"))\n",
        "# select variable holding the user value.\n",
        "  \n",
        "number_1 = int(input(\"Enter first number: \")) # first argument\n",
        "number_2 = int(input(\"Enter second number: \")) # second argument\n",
        "  \n",
        "if select == 1: # if the value user choosed 1\n",
        "    print(number_1, \"+\", number_2, \"=\", #print function get call\n",
        "                    add(number_1, number_2)) # add function will excute. \n",
        "  \n",
        "elif select == 2: # if the value user choosed 2\n",
        "    print(number_1, \"-\", number_2, \"=\", #print function get call\n",
        "                    subtract(number_1, number_2)) # subtract function will excute.\n",
        "  \n",
        "elif select == 3: # if the value user choosed 3\n",
        "    print(number_1, \"*\", number_2, \"=\", #print function get call\n",
        "                    multiply(number_1, number_2)) # multiply function will excute.\n",
        "  \n",
        "elif select == 4: # if the value user choosed 4\n",
        "    print(number_1, \"/\", number_2, \"=\", #print function get call\n",
        "                    divide(number_1, number_2)) # divide function will excute.\n",
        "else: # if the value user didn't choose this block excute and print this value\n",
        "    print(\"Invalid input\")"
      ]
    }
  ]
}