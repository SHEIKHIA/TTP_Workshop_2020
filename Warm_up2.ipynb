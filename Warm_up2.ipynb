{
  "nbformat": 4,
  "nbformat_minor": 0,
  "metadata": {
    "colab": {
      "name": "Warm_up2.ipynb",
      "provenance": [],
      "authorship_tag": "ABX9TyP/I/j0NsD3u0Qjfvy3Ktis",
      "include_colab_link": true
    },
    "kernelspec": {
      "name": "python3",
      "display_name": "Python 3"
    },
    "language_info": {
      "name": "python"
    }
  },
  "cells": [
    {
      "cell_type": "markdown",
      "metadata": {
        "id": "view-in-github",
        "colab_type": "text"
      },
      "source": [
        "<a href=\"https://colab.research.google.com/github/SHEIKHIA/TTP_Workshop_2020/blob/main/Warm_up2.ipynb\" target=\"_parent\"><img src=\"https://colab.research.google.com/assets/colab-badge.svg\" alt=\"Open In Colab\"/></a>"
      ]
    },
    {
      "cell_type": "code",
      "execution_count": null,
      "metadata": {
        "id": "pMdeFvxR7cbs"
      },
      "outputs": [],
      "source": [
        "#Create a list that holds 5 data variables.\n",
        "variable = [\"data1\",\"data2\",\"data3\",\"data4\",\"data5\",] #created 5 data variable"
      ]
    },
    {
      "cell_type": "code",
      "source": [
        "# Create a list that holds 10 values.\n",
        "value = [0,1,2,3,4,5,6,7,8,9] #list with 10 values"
      ],
      "metadata": {
        "id": "y1by0mCO835J"
      },
      "execution_count": null,
      "outputs": []
    },
    {
      "cell_type": "code",
      "source": [
        "#Create a simple dictionary that stores 2 variables, for example: first and last name.\n",
        "dic={\"first_name \",\"last_name \"} #simple variable created."
      ],
      "metadata": {
        "id": "e-MEfHcC9n5W"
      },
      "execution_count": null,
      "outputs": []
    },
    {
      "cell_type": "code",
      "source": [
        "#4Print out those variables stored in your previous dictionary.\n",
        "for i in dic: #print by using for loop \n",
        "  print(i)"
      ],
      "metadata": {
        "colab": {
          "base_uri": "https://localhost:8080/"
        },
        "id": "zwrYXCIO9_dD",
        "outputId": "cf4291bf-1103-4196-f35d-a275ba24fa54"
      },
      "execution_count": null,
      "outputs": [
        {
          "output_type": "stream",
          "name": "stdout",
          "text": [
            "first_name \n",
            "last_name \n"
          ]
        }
      ]
    },
    {
      "cell_type": "code",
      "source": [
        "#Add a message to those variables on printing: for example: “Hello, firstname\n",
        "#lastname!”\n",
        "\n",
        "for i in dic: # i temporary element iterate through dic\n",
        "  print(i ,'Hello') # printing values of i + added a test"
      ],
      "metadata": {
        "colab": {
          "base_uri": "https://localhost:8080/"
        },
        "id": "2HhrbnsI-rA4",
        "outputId": "540061d7-915d-4196-e15e-ebe7b5415205"
      },
      "execution_count": null,
      "outputs": [
        {
          "output_type": "stream",
          "name": "stdout",
          "text": [
            "first_name  Hello\n",
            "last_name  Hello\n"
          ]
        }
      ]
    },
    {
      "cell_type": "code",
      "source": [
        "#Create a dictionary that holds 2 key: value pairs:\n",
        "newdic ={ \"key1\":1, \"key2\":2} # dictionary with key and pairs. and assign in to newdic variable\n"
      ],
      "metadata": {
        "colab": {
          "base_uri": "https://localhost:8080/"
        },
        "id": "O_-e0hyw_55p",
        "outputId": "fbfb7892-d63d-4a64-ffee-178da191b20c"
      },
      "execution_count": null,
      "outputs": [
        {
          "output_type": "stream",
          "name": "stdout",
          "text": [
            "{'key1': 1, 'key2': 2}\n"
          ]
        }
      ]
    },
    {
      "cell_type": "code",
      "source": [
        "#Look through your dictionary and print each pair,\n",
        "newdic ={ \"key1\":1, \"key2\":2}\n",
        "print(newdic) # didn't use loop just printed the dic."
      ],
      "metadata": {
        "colab": {
          "base_uri": "https://localhost:8080/"
        },
        "id": "BcFoSLFvBMfh",
        "outputId": "9d185559-7d64-4c92-d087-df6c1ba909f7"
      },
      "execution_count": null,
      "outputs": [
        {
          "output_type": "stream",
          "name": "stdout",
          "text": [
            "{'key1': 1, 'key2': 2}\n"
          ]
        }
      ]
    },
    {
      "cell_type": "code",
      "source": [
        "#Create a nested dictionary containing three dictionaries – these dictionaries could be\n",
        "#anything\n",
        "nst_dic = {1: {'key1': 1}, # 1 is key and inside the nested loop 1 is value\n",
        "           2: {'key2': 2},\n",
        "          3: {'key3': 3}}"
      ],
      "metadata": {
        "id": "3AvnKjboCaQm"
      },
      "execution_count": null,
      "outputs": []
    },
    {
      "cell_type": "code",
      "source": [
        "#Loop through the dictionaries and print a message for each.\n",
        "for i in nst_dic:\n",
        "  print(\"Message \", i ,nst_dic[i] )"
      ],
      "metadata": {
        "colab": {
          "base_uri": "https://localhost:8080/"
        },
        "id": "-R2ZQNi2Dqxo",
        "outputId": "45fd5aad-1175-4e4d-bd59-673fbae26ef6"
      },
      "execution_count": null,
      "outputs": [
        {
          "output_type": "stream",
          "name": "stdout",
          "text": [
            "Message  1 {'key1': 1}\n",
            "Message  2 {'key2': 2}\n",
            "Message  3 {'key3': 3}\n"
          ]
        }
      ]
    },
    {
      "cell_type": "code",
      "source": [
        "#Write a program that takes a group of numbers and checks if the groups are the\n",
        "#same or different.\n",
        "num1 = input(\"put numbers: \") #holding values\n",
        "num2 = input(\"put another numbers: \")\n",
        "def ck_num(): #declear fun to resue this code.\n",
        "  if num1 == num2:\n",
        "    print(\"same\")\n",
        "  else:\n",
        "    print(\"diffrent\")\n",
        "ck_num()"
      ],
      "metadata": {
        "colab": {
          "base_uri": "https://localhost:8080/"
        },
        "id": "Sraxr6CQFtgc",
        "outputId": "d805b25f-2ac9-4617-c930-a787bfa1ce4d"
      },
      "execution_count": null,
      "outputs": [
        {
          "output_type": "stream",
          "name": "stdout",
          "text": [
            "put numbers1\n",
            "put another numbers2\n",
            "diffrent\n"
          ]
        }
      ]
    },
    {
      "cell_type": "code",
      "source": [
        "#Generate a list of five numbers\n",
        "lis=[]\n",
        "\n",
        "for i in range(5): #generate 5 number useing range function\n",
        "  lis.append(i)\n",
        "print('Generate a list of five numbers:' ,lis)"
      ],
      "metadata": {
        "colab": {
          "base_uri": "https://localhost:8080/"
        },
        "id": "ogTmKslDG-_B",
        "outputId": "94bcbb03-631c-4710-c7d7-87ee42a2e045"
      },
      "execution_count": 38,
      "outputs": [
        {
          "output_type": "stream",
          "name": "stdout",
          "text": [
            "Generate a list of five numbers: [0, 1, 2, 3, 4]\n"
          ]
        }
      ]
    },
    {
      "cell_type": "code",
      "source": [
        "#Write a program to create all possible combos of vowels using each vowel once.\n",
        "vowel = [\"a\",\"e\",\"i\",\"o\",\"u\"]\n",
        "for letter in vowel:\n",
        "  print(letter)\n",
        "# not clear about the question "
      ],
      "metadata": {
        "id": "DYm5wFaMIKjB",
        "colab": {
          "base_uri": "https://localhost:8080/"
        },
        "outputId": "d7ca6aeb-4d92-4056-9942-6752b2322ed1"
      },
      "execution_count": 40,
      "outputs": [
        {
          "output_type": "stream",
          "name": "stdout",
          "text": [
            "a\n",
            "e\n",
            "i\n",
            "o\n",
            "u\n"
          ]
        }
      ]
    },
    {
      "cell_type": "code",
      "source": [
        "#Write a program to remove and print every third number from a list until the list is\n",
        "#empty.\n",
        "lis = [1,3,4,9,7,8]\n",
        "\n",
        "while len(lis) != 2: # create condition to list 3rd element.\n",
        "  dele_lis = lis.pop(2) #deleting 3rd element.\n",
        "  print(\"deleting 3rd item: \",dele_lis)\n",
        "  print(lis)\n",
        "lis.clear()\n",
        "print(lis)\n",
        "\n",
        "\n",
        "\n",
        "\n"
      ],
      "metadata": {
        "id": "BexWmdBVIiu9",
        "colab": {
          "base_uri": "https://localhost:8080/"
        },
        "outputId": "173623f8-cf87-4c7d-ba30-702046501ada"
      },
      "execution_count": 34,
      "outputs": [
        {
          "output_type": "stream",
          "name": "stdout",
          "text": [
            "deleting 3rd item:  4\n",
            "[1, 3, 9, 7, 8]\n",
            "deleting 3rd item:  9\n",
            "[1, 3, 7, 8]\n",
            "deleting 3rd item:  7\n",
            "[1, 3, 8]\n",
            "deleting 3rd item:  8\n",
            "[1, 3]\n",
            "[]\n"
          ]
        }
      ]
    },
    {
      "cell_type": "code",
      "source": [
        "#Write a program to print a list of 10 random numbers.\n",
        "import random\n",
        "r_list =[]\n",
        "for i in range(10):\n",
        "  r_list.append((random.randint(0, 10))) #inserting using append function. used random function to generate random number. \n",
        "\n",
        "print(r_list)\n",
        "\n",
        "\n",
        "\n"
      ],
      "metadata": {
        "colab": {
          "base_uri": "https://localhost:8080/"
        },
        "id": "rYCUvSnoIrca",
        "outputId": "ea81b4ad-d413-4e63-bde2-e26711564aa2"
      },
      "execution_count": null,
      "outputs": [
        {
          "output_type": "stream",
          "name": "stdout",
          "text": [
            "[3, 9, 5, 1, 4, 0, 2, 8, 4, 3]\n"
          ]
        }
      ]
    },
    {
      "cell_type": "code",
      "source": [
        "#Write a program to sum up three numbers from a list.\n",
        "lis=[1,2,2]\n",
        "sum=0\n",
        "for i in lis:\n",
        "  sum+=i\n",
        "\n",
        "print(sum)\n"
      ],
      "metadata": {
        "colab": {
          "base_uri": "https://localhost:8080/"
        },
        "id": "pGZneXpOIwNI",
        "outputId": "926b0041-010a-40f1-e8cd-0400e45067d3"
      },
      "execution_count": 39,
      "outputs": [
        {
          "output_type": "stream",
          "name": "stdout",
          "text": [
            "5\n"
          ]
        }
      ]
    },
    {
      "cell_type": "code",
      "source": [
        "#prime number\n",
        "\n",
        "def check_num(user):\n",
        "  if user<2:\n",
        "    print(\"this is not prime \")\n",
        "  elif user>2 and user % 2 ==0:\n",
        "    print(\"this is not prime \")\n",
        "  else:\n",
        "   print(\"this is prime: \")\n"
      ],
      "metadata": {
        "id": "so45W5VScKbA"
      },
      "execution_count": null,
      "outputs": []
    },
    {
      "cell_type": "code",
      "source": [
        "\n",
        "\n"
      ],
      "metadata": {
        "colab": {
          "base_uri": "https://localhost:8080/"
        },
        "id": "AyLmNQwOe-TQ",
        "outputId": "645f7b11-166e-41cb-e5ce-2fa2d23db86b"
      },
      "execution_count": null,
      "outputs": [
        {
          "output_type": "stream",
          "name": "stdout",
          "text": [
            "this is not prime \n"
          ]
        }
      ]
    }
  ]
}