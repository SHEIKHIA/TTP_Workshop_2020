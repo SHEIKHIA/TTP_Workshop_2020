{
  "nbformat": 4,
  "nbformat_minor": 0,
  "metadata": {
    "colab": {
      "name": "001.ipynb",
      "provenance": [],
      "authorship_tag": "ABX9TyM14iSk2y6JXDL08YXLJJex",
      "include_colab_link": true
    },
    "kernelspec": {
      "name": "python3",
      "display_name": "Python 3"
    },
    "language_info": {
      "name": "python"
    }
  },
  "cells": [
    {
      "cell_type": "markdown",
      "metadata": {
        "id": "view-in-github",
        "colab_type": "text"
      },
      "source": [
        "<a href=\"https://colab.research.google.com/github/SHEIKHIA/TTP01/blob/main/001.ipynb\" target=\"_parent\"><img src=\"https://colab.research.google.com/assets/colab-badge.svg\" alt=\"Open In Colab\"/></a>"
      ]
    },
    {
      "cell_type": "code",
      "execution_count": 2,
      "metadata": {
        "colab": {
          "base_uri": "https://localhost:8080/"
        },
        "id": "6i8gN_d4cvxN",
        "outputId": "e1d1e9a0-ec58-4d4f-dd08-45221edb43ae"
      },
      "outputs": [
        {
          "output_type": "stream",
          "name": "stdout",
          "text": [
            "what is your sweet name? sheikh\n",
            "hello sheikh\n"
          ]
        }
      ],
      "source": [
        "getting = \"hello \"\n",
        "name = input(\"what is your sweet name? \")\n",
        "print( getting + name)\n"
      ]
    },
    {
      "cell_type": "code",
      "source": [
        "name = input(print('what is your name?'))\n",
        "print(f'my name is {name}')\n"
      ],
      "metadata": {
        "colab": {
          "base_uri": "https://localhost:8080/"
        },
        "id": "nbt1M-blekCc",
        "outputId": "c781283d-9403-4e19-c312-1f16529b88ae"
      },
      "execution_count": 4,
      "outputs": [
        {
          "output_type": "stream",
          "name": "stdout",
          "text": [
            "what is your name?\n",
            "sheikh\n",
            "my name is sheikh\n"
          ]
        }
      ]
    }
  ]
}