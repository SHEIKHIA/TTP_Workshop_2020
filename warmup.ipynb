{
  "nbformat": 4,
  "nbformat_minor": 0,
  "metadata": {
    "colab": {
      "name": "warmup.ipynb",
      "provenance": [],
      "authorship_tag": "ABX9TyORnvur8RGxigm/36nKuRCV",
      "include_colab_link": true
    },
    "kernelspec": {
      "name": "python3",
      "display_name": "Python 3"
    },
    "language_info": {
      "name": "python"
    }
  },
  "cells": [
    {
      "cell_type": "markdown",
      "metadata": {
        "id": "view-in-github",
        "colab_type": "text"
      },
      "source": [
        "<a href=\"https://colab.research.google.com/github/SHEIKHIA/TTP_Workshop_2020/blob/main/warmup.ipynb\" target=\"_parent\"><img src=\"https://colab.research.google.com/assets/colab-badge.svg\" alt=\"Open In Colab\"/></a>"
      ]
    },
    {
      "cell_type": "code",
      "execution_count": null,
      "metadata": {
        "colab": {
          "base_uri": "https://localhost:8080/"
        },
        "id": "uahkOIYrhLXd",
        "outputId": "cb48c030-b1eb-43aa-a125-30c46b155cea"
      },
      "outputs": [
        {
          "output_type": "stream",
          "name": "stdout",
          "text": [
            "olle\n"
          ]
        }
      ],
      "source": [
        " # Using the Slice Syntax\n",
        "# Select a set of characters from “Hello World” to print\n",
        "# Print “Hello World” in reverse\n",
        "prnt = 'Hello World'\n",
        "prnt = prnt[1:5]\n",
        "print(prnt[::-1])"
      ]
    },
    {
      "cell_type": "code",
      "source": [
        "#Using the input() function\n",
        "#3. Print user input in reverse\n",
        "#4. Print user input in a sentence\n",
        "input_msg = input('please tell us something ')\n",
        "print(input_msg[::-1])\n",
        "print(input_msg)"
      ],
      "metadata": {
        "colab": {
          "base_uri": "https://localhost:8080/"
        },
        "id": "JIliBM7Xi8P1",
        "outputId": "c58b798a-4ffe-44ac-868a-184b7f838d43"
      },
      "execution_count": null,
      "outputs": [
        {
          "output_type": "stream",
          "name": "stdout",
          "text": [
            "please tell us something hi there\n",
            "ereht ih\n",
            "hi there\n"
          ]
        }
      ]
    },
    {
      "cell_type": "code",
      "source": [
        "#Using the type() function, print out the type of three objects\n",
        "#5. Find the type of three objects\n",
        "\n",
        "print(type(True))\n",
        "print(type(1))\n",
        "print(type(\"True\"))"
      ],
      "metadata": {
        "colab": {
          "base_uri": "https://localhost:8080/"
        },
        "id": "I4zg3S14ji8u",
        "outputId": "016314e8-8ba2-49b5-bff7-dfcba423ce0f"
      },
      "execution_count": null,
      "outputs": [
        {
          "output_type": "stream",
          "name": "stdout",
          "text": [
            "<class 'bool'>\n",
            "<class 'int'>\n",
            "<class 'str'>\n"
          ]
        }
      ]
    },
    {
      "cell_type": "code",
      "source": [
        "#Perform algebraic operations\n",
        "#6. Add two numbers together\n",
        "#7. Find the square root of 5 numbers\n",
        "#8. Find the whole number of 5 division problems\n",
        "\n",
        "print(2+3)\n",
        "print(5**2)\n",
        "print (round(25/5))"
      ],
      "metadata": {
        "colab": {
          "base_uri": "https://localhost:8080/"
        },
        "id": "IxZyfnx0j5e4",
        "outputId": "c494066a-d9d4-4fec-b48a-76a6b2da2009"
      },
      "execution_count": null,
      "outputs": [
        {
          "output_type": "stream",
          "name": "stdout",
          "text": [
            "5\n",
            "25\n",
            "5\n"
          ]
        }
      ]
    },
    {
      "cell_type": "code",
      "source": [
        "#Lists and Arrays\n",
        "#9. Create two lists and combine them\n",
        "#10. Create two arrays and combine them\n",
        "\n",
        "list1 =[1,3]\n",
        "list2 = ['a' ,'b']\n",
        "combine_list = list1 + list2\n",
        "print(combine_list )\n",
        "arr1 =[2,3]\n",
        "arr2 = [8 ,9]\n",
        "combine_arr= arr1+arr2\n",
        "print(combine_arr)"
      ],
      "metadata": {
        "colab": {
          "base_uri": "https://localhost:8080/"
        },
        "id": "KlawdhOZlppn",
        "outputId": "98d4be4c-31ee-4c96-9a90-4f6635f3dcb1"
      },
      "execution_count": 28,
      "outputs": [
        {
          "output_type": "stream",
          "name": "stdout",
          "text": [
            "[1, 3, 'a', 'b']\n",
            "[2, 3, 8, 9]\n"
          ]
        }
      ]
    },
    {
      "cell_type": "code",
      "source": [
        "#Converting Objects\n",
        "#11. Convert 5 objects from one type to another(ex. Int to Float)\n",
        "#12. Convert a lowercase string to an UPPERCASE STRING\n",
        "print(int(0.1))\n",
        "print(float(100))\n",
        "print(str(0.1))\n",
        "print(str(2j))\n",
        "print(int(True))\n",
        "msg = \"Sheikh\"\n",
        "print(msg.upper())\n"
      ],
      "metadata": {
        "colab": {
          "base_uri": "https://localhost:8080/"
        },
        "id": "OKfBFunBnef1",
        "outputId": "9d775a0d-38b2-44d8-b770-2dcc05891ce8"
      },
      "execution_count": 30,
      "outputs": [
        {
          "output_type": "stream",
          "name": "stdout",
          "text": [
            "0\n",
            "100.0\n",
            "0.1\n",
            "2j\n",
            "1\n",
            "SHEIKH\n"
          ]
        }
      ]
    },
    {
      "cell_type": "code",
      "source": [
        "#Challenge Section!!!\n",
        "#13. Print out the word “Python”, one letter at a time\n",
        "#14. Print an object from a list of objects\n",
        "#15. BONUS!!! Get the version of Python being used\n",
        "\n",
        "strng = 'Python'\n",
        "for i in strng:\n",
        "  print(i)\n",
        "\n",
        "list2 = ['A' ,1]\n",
        "print(list2[0])\n",
        "\n",
        "import sys\n",
        "print(sys.version)\n",
        "\n"
      ],
      "metadata": {
        "colab": {
          "base_uri": "https://localhost:8080/"
        },
        "id": "Pn5B07DKo8uW",
        "outputId": "ea37a180-7bc7-4ddd-88b5-e66ee07d57a1"
      },
      "execution_count": 27,
      "outputs": [
        {
          "output_type": "stream",
          "name": "stdout",
          "text": [
            "P\n",
            "y\n",
            "t\n",
            "h\n",
            "o\n",
            "n\n",
            "A\n",
            "3.7.12 (default, Sep 10 2021, 00:21:48) \n",
            "[GCC 7.5.0]\n"
          ]
        }
      ]
    }
  ]
}